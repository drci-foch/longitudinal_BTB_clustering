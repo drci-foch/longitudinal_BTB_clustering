{
 "cells": [
  {
   "cell_type": "code",
   "execution_count": null,
   "metadata": {},
   "outputs": [],
   "source": [
    "import pandas as pd"
   ]
  },
  {
   "cell_type": "code",
   "execution_count": null,
   "metadata": {},
   "outputs": [],
   "source": [
    "df_base_final = pd.read_excel(\"../data/base_finale.xlsx\")\n",
    "df_base_hcpc_final = pd.read_csv(\"../data/base_hcpc_final.csv\", sep=\";\")\n",
    "pop_landscape = pd.read_excel(\"../data/pop_landscape_finale.xlsx\")"
   ]
  },
  {
   "cell_type": "code",
   "execution_count": null,
   "metadata": {},
   "outputs": [
    {
     "name": "stdout",
     "output_type": "stream",
     "text": [
      "Columns only in df_base_final:\n",
      "[]\n",
      "\n",
      "Columns only in df_base_hcpc_final:\n",
      "['final_infiltrat_A_A1_A2', 'clust', 'final_infiltrat_B_BNSP']\n",
      "\n",
      "Number of different columns: 3\n"
     ]
    }
   ],
   "source": [
    "# Assuming df_base_final and df_base_hcpc_final are your DataFrames\n",
    "\n",
    "# Convert column names to sets\n",
    "set1 = set(df_base_final.columns)\n",
    "set2 = set(df_base_hcpc_final.columns)\n",
    "\n",
    "# Find columns in df_base_final that are not in df_base_hcpc_final\n",
    "only_in_base_final = set1 - set2\n",
    "\n",
    "# Find columns in df_base_hcpc_final that are not in df_base_final\n",
    "only_in_base_hcpc_final = set2 - set1\n",
    "\n",
    "print(\"Columns only in df_base_final:\")\n",
    "print(list(only_in_base_final))\n",
    "\n",
    "print(\"\\nColumns only in df_base_hcpc_final:\")\n",
    "print(list(only_in_base_hcpc_final))\n",
    "\n",
    "print(f\"\\nNumber of different columns: {len(only_in_base_final) + len(only_in_base_hcpc_final)}\")"
   ]
  },
  {
   "cell_type": "code",
   "execution_count": null,
   "metadata": {},
   "outputs": [
    {
     "name": "stdout",
     "output_type": "stream",
     "text": [
      "Columns that are the same between pop_landscape and df_base_hcpc_final:\n",
      "['NEFG2', 'LT_date']\n",
      "\n",
      "Number of common columns: 2\n"
     ]
    }
   ],
   "source": [
    "# Assuming pop_landscape and df_base_hcpc_final are your DataFrames\n",
    "\n",
    "# Convert column names to sets\n",
    "set1 = set(pop_landscape.columns)\n",
    "set2 = set(df_base_hcpc_final.columns)\n",
    "\n",
    "# Find common columns\n",
    "common_columns = set1.intersection(set2)\n",
    "\n",
    "print(\"Columns that are the same between pop_landscape and df_base_hcpc_final:\")\n",
    "print(list(common_columns))\n",
    "print(f\"\\nNumber of common columns: {len(common_columns)}\")"
   ]
  },
  {
   "cell_type": "code",
   "execution_count": null,
   "metadata": {},
   "outputs": [],
   "source": [
    "df_base_hcpc_final['LT_date'] = pd.to_datetime(df_base_hcpc_final['LT_date'])\n",
    "\n",
    "df_combined = pd.merge(df_base_hcpc_final, pop_landscape, on=['NEFG2'], how='left')\n",
    "df_combined.to_excel(\"../data/df_combined.xlsx\")"
   ]
  }
 ],
 "metadata": {
  "language_info": {
   "name": "python"
  }
 },
 "nbformat": 4,
 "nbformat_minor": 2
}
