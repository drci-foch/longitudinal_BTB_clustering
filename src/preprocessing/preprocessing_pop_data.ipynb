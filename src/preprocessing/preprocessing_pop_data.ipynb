{
 "cells": [
  {
   "cell_type": "code",
   "execution_count": 333,
   "metadata": {},
   "outputs": [],
   "source": [
    "import pandas as pd\n"
   ]
  },
  {
   "cell_type": "code",
   "execution_count": 334,
   "metadata": {},
   "outputs": [
    {
     "name": "stdout",
     "output_type": "stream",
     "text": [
      "<class 'pandas.core.frame.DataFrame'>\n",
      "RangeIndex: 498 entries, 0 to 497\n",
      "Data columns (total 49 columns):\n",
      " #   Column                    Non-Null Count  Dtype         \n",
      "---  ------                    --------------  -----         \n",
      " 0   nom_prenom_match          498 non-null    object        \n",
      " 1   natt                      498 non-null    int64         \n",
      " 2   NEFG                      498 non-null    int64         \n",
      " 3   NEFG2                     498 non-null    object        \n",
      " 4   birth_date                498 non-null    datetime64[ns]\n",
      " 5   LT_age                    498 non-null    float64       \n",
      " 6   LT_date                   498 non-null    datetime64[ns]\n",
      " 7   center                    498 non-null    object        \n",
      " 8   aetiology                 498 non-null    int64         \n",
      " 9   gender                    498 non-null    object        \n",
      " 10  taille                    498 non-null    float64       \n",
      " 11  bmi                       498 non-null    float64       \n",
      " 12  donneur_age               498 non-null    int64         \n",
      " 13  donneur_PF                498 non-null    float64       \n",
      " 14  donneur_tabac             498 non-null    int64         \n",
      " 15  donneur_ISHLT             0 non-null      float64       \n",
      " 16  LAS                       498 non-null    float64       \n",
      " 17  LAS_SU                    498 non-null    float64       \n",
      " 18  LAS_2                     498 non-null    float64       \n",
      " 19  SU                        498 non-null    int64         \n",
      " 20  type_tp                   498 non-null    int64         \n",
      " 21  ischemie_duree            476 non-null    float64       \n",
      " 22  ECMO_postop               498 non-null    int64         \n",
      " 23  ECMO_postop_duree_jours   498 non-null    int64         \n",
      " 24  DPG3_72h                  497 non-null    float64       \n",
      " 25  induction                 498 non-null    int64         \n",
      " 26  CMV_DR                    498 non-null    object        \n",
      " 27  DSA_pre                   498 non-null    int64         \n",
      " 28  DSA_last                  443 non-null    float64       \n",
      " 29  DSA_last_date             27 non-null     datetime64[ns]\n",
      " 30  patient_survival_status   498 non-null    int64         \n",
      " 31  patient_survival_ddn      498 non-null    datetime64[ns]\n",
      " 32  patient_survival_delay    498 non-null    int64         \n",
      " 33  graft_survival_status     498 non-null    int64         \n",
      " 34  graft_survival_ddn        498 non-null    datetime64[ns]\n",
      " 35  graft_survival_delay      498 non-null    int64         \n",
      " 36  re_tx                     498 non-null    int64         \n",
      " 37  CLAD_status               421 non-null    float64       \n",
      " 38  CLAD_ddn                  420 non-null    datetime64[ns]\n",
      " 39  CLAD_delay                416 non-null    float64       \n",
      " 40  LT_age_2                  498 non-null    float64       \n",
      " 41  patient_survival_delay_2  498 non-null    int64         \n",
      " 42  graft_survival_delay_2    498 non-null    int64         \n",
      " 43  CLAD_delay_2              420 non-null    float64       \n",
      " 44  donneur_tabac_2           498 non-null    int64         \n",
      " 45  aetiology_2               498 non-null    int64         \n",
      " 46  aetiology_3               498 non-null    int64         \n",
      " 47  aetiology_3_and_1         498 non-null    int64         \n",
      " 48  gender_2                  498 non-null    object        \n",
      "dtypes: datetime64[ns](6), float64(15), int64(22), object(6)\n",
      "memory usage: 190.8+ KB\n"
     ]
    }
   ],
   "source": [
    "df = pd.read_excel(\".././data/original/pop_landscape_finale.xlsx\")\n",
    "df.info()"
   ]
  },
  {
   "cell_type": "code",
   "execution_count": 335,
   "metadata": {},
   "outputs": [
    {
     "data": {
      "text/plain": [
       "Index(['nom_prenom_match', 'natt', 'NEFG', 'NEFG2', 'birth_date', 'LT_age',\n",
       "       'LT_date', 'center', 'aetiology', 'gender', 'taille', 'bmi',\n",
       "       'donneur_age', 'donneur_PF', 'donneur_tabac', 'donneur_ISHLT', 'LAS',\n",
       "       'LAS_SU', 'LAS_2', 'SU', 'type_tp', 'ischemie_duree', 'ECMO_postop',\n",
       "       'ECMO_postop_duree_jours', 'DPG3_72h', 'induction', 'CMV_DR', 'DSA_pre',\n",
       "       'DSA_last', 'DSA_last_date', 'patient_survival_status',\n",
       "       'patient_survival_ddn', 'patient_survival_delay',\n",
       "       'graft_survival_status', 'graft_survival_ddn', 'graft_survival_delay',\n",
       "       're_tx', 'CLAD_status', 'CLAD_ddn', 'CLAD_delay', 'LT_age_2',\n",
       "       'patient_survival_delay_2', 'graft_survival_delay_2', 'CLAD_delay_2',\n",
       "       'donneur_tabac_2', 'aetiology_2', 'aetiology_3', 'aetiology_3_and_1',\n",
       "       'gender_2'],\n",
       "      dtype='object')"
      ]
     },
     "execution_count": 335,
     "metadata": {},
     "output_type": "execute_result"
    }
   ],
   "source": [
    "df.columns"
   ]
  },
  {
   "cell_type": "code",
   "execution_count": 336,
   "metadata": {},
   "outputs": [],
   "source": [
    "df = df[[\"NEFG\",\"NEFG2\", \"LT_age\", \"aetiology\", \"gender\", \"bmi\",\n",
    "    \"donneur_age\", \"donneur_PF\", \"donneur_tabac\",\"LAS\",\"SU\",\n",
    "    \"type_tp\", \"ECMO_postop\", \"ECMO_postop_duree_jours\",\n",
    "    \"induction\",\"CMV_DR\", \"DSA_pre\", \n",
    "     'patient_survival_status', 'patient_survival_delay',\n",
    "       'graft_survival_status' , 'graft_survival_delay',\n",
    "       're_tx',]]"
   ]
  },
  {
   "cell_type": "code",
   "execution_count": 337,
   "metadata": {},
   "outputs": [
    {
     "name": "stdout",
     "output_type": "stream",
     "text": [
      "Object columns: ['NEFG2', 'gender', 'CMV_DR']\n",
      "Datetime columns: []\n"
     ]
    }
   ],
   "source": [
    "# Get object (categorical) columns\n",
    "object_columns = df.select_dtypes(include=['object']).columns\n",
    "print(\"Object columns:\", list(object_columns))\n",
    "\n",
    "# Get datetime columns\n",
    "datetime_columns = df.select_dtypes(include=['datetime64', 'datetime64[ns]']).columns\n",
    "print(\"Datetime columns:\", list(datetime_columns))"
   ]
  },
  {
   "cell_type": "code",
   "execution_count": 338,
   "metadata": {},
   "outputs": [],
   "source": [
    "# Create a mapping dictionary\n",
    "gender_map = {'female': 0, 'male': 1}\n",
    "\n",
    "# Apply the mapping to create a new column or transform the existing one\n",
    "df['gender'] = df['gender'].str.lower().map(gender_map)\n"
   ]
  },
  {
   "cell_type": "code",
   "execution_count": 339,
   "metadata": {},
   "outputs": [],
   "source": [
    "# Standardize format without numerical mapping\n",
    "df['CMV_DR'] = df['CMV_DR'].astype('category')\n",
    "\n",
    "# If you need to get the codes later:\n",
    "df['CMV_DR_coded'] = df['CMV_DR'].cat.codes\n"
   ]
  },
  {
   "cell_type": "code",
   "execution_count": 340,
   "metadata": {},
   "outputs": [
    {
     "data": {
      "text/html": [
       "<div>\n",
       "<style scoped>\n",
       "    .dataframe tbody tr th:only-of-type {\n",
       "        vertical-align: middle;\n",
       "    }\n",
       "\n",
       "    .dataframe tbody tr th {\n",
       "        vertical-align: top;\n",
       "    }\n",
       "\n",
       "    .dataframe thead th {\n",
       "        text-align: right;\n",
       "    }\n",
       "</style>\n",
       "<table border=\"1\" class=\"dataframe\">\n",
       "  <thead>\n",
       "    <tr style=\"text-align: right;\">\n",
       "      <th></th>\n",
       "      <th>NEFG2</th>\n",
       "      <th>PC1</th>\n",
       "      <th>PC2</th>\n",
       "      <th>PC3</th>\n",
       "    </tr>\n",
       "  </thead>\n",
       "  <tbody>\n",
       "    <tr>\n",
       "      <th>0</th>\n",
       "      <td>119222</td>\n",
       "      <td>-6.059952</td>\n",
       "      <td>-2.337604</td>\n",
       "      <td>-0.112934</td>\n",
       "    </tr>\n",
       "    <tr>\n",
       "      <th>1</th>\n",
       "      <td>119430#2</td>\n",
       "      <td>-4.147300</td>\n",
       "      <td>2.131158</td>\n",
       "      <td>-0.582274</td>\n",
       "    </tr>\n",
       "    <tr>\n",
       "      <th>2</th>\n",
       "      <td>129042#2</td>\n",
       "      <td>-1.878337</td>\n",
       "      <td>2.039656</td>\n",
       "      <td>4.220944</td>\n",
       "    </tr>\n",
       "    <tr>\n",
       "      <th>3</th>\n",
       "      <td>131960</td>\n",
       "      <td>-3.480378</td>\n",
       "      <td>-0.155022</td>\n",
       "      <td>1.850744</td>\n",
       "    </tr>\n",
       "    <tr>\n",
       "      <th>4</th>\n",
       "      <td>140937#2</td>\n",
       "      <td>0.614241</td>\n",
       "      <td>2.497368</td>\n",
       "      <td>7.819445</td>\n",
       "    </tr>\n",
       "    <tr>\n",
       "      <th>...</th>\n",
       "      <td>...</td>\n",
       "      <td>...</td>\n",
       "      <td>...</td>\n",
       "      <td>...</td>\n",
       "    </tr>\n",
       "    <tr>\n",
       "      <th>493</th>\n",
       "      <td>394318</td>\n",
       "      <td>-1.522323</td>\n",
       "      <td>-2.423574</td>\n",
       "      <td>4.274153</td>\n",
       "    </tr>\n",
       "    <tr>\n",
       "      <th>494</th>\n",
       "      <td>394410</td>\n",
       "      <td>-3.869811</td>\n",
       "      <td>-6.337252</td>\n",
       "      <td>1.451607</td>\n",
       "    </tr>\n",
       "    <tr>\n",
       "      <th>495</th>\n",
       "      <td>394550</td>\n",
       "      <td>-6.167030</td>\n",
       "      <td>-2.297303</td>\n",
       "      <td>0.187971</td>\n",
       "    </tr>\n",
       "    <tr>\n",
       "      <th>496</th>\n",
       "      <td>394636</td>\n",
       "      <td>-9.042095</td>\n",
       "      <td>-6.377158</td>\n",
       "      <td>-0.285073</td>\n",
       "    </tr>\n",
       "    <tr>\n",
       "      <th>497</th>\n",
       "      <td>395886</td>\n",
       "      <td>-9.042152</td>\n",
       "      <td>-6.377397</td>\n",
       "      <td>-0.285317</td>\n",
       "    </tr>\n",
       "  </tbody>\n",
       "</table>\n",
       "<p>498 rows × 4 columns</p>\n",
       "</div>"
      ],
      "text/plain": [
       "        NEFG2       PC1       PC2       PC3\n",
       "0      119222 -6.059952 -2.337604 -0.112934\n",
       "1    119430#2 -4.147300  2.131158 -0.582274\n",
       "2    129042#2 -1.878337  2.039656  4.220944\n",
       "3      131960 -3.480378 -0.155022  1.850744\n",
       "4    140937#2  0.614241  2.497368  7.819445\n",
       "..        ...       ...       ...       ...\n",
       "493    394318 -1.522323 -2.423574  4.274153\n",
       "494    394410 -3.869811 -6.337252  1.451607\n",
       "495    394550 -6.167030 -2.297303  0.187971\n",
       "496    394636 -9.042095 -6.377158 -0.285073\n",
       "497    395886 -9.042152 -6.377397 -0.285317\n",
       "\n",
       "[498 rows x 4 columns]"
      ]
     },
     "execution_count": 340,
     "metadata": {},
     "output_type": "execute_result"
    }
   ],
   "source": [
    "df_pca = pd.read_csv(\".././data/analysis/pca_features.csv\", sep=\",\")\n",
    "df_pca"
   ]
  },
  {
   "cell_type": "code",
   "execution_count": 341,
   "metadata": {},
   "outputs": [
    {
     "data": {
      "text/plain": [
       "set()"
      ]
     },
     "execution_count": 341,
     "metadata": {},
     "output_type": "execute_result"
    }
   ],
   "source": [
    "# Remove unwanted characters from 'NEFG2' in both dataframes and convert to strings\n",
    "df_pca['NEFG2_cleaned'] = df_pca['NEFG2'].astype(str).str.replace('[^0-9]', '', regex=True)\n",
    "df['NEFG2_cleaned'] = df['NEFG2'].astype(str).str.replace('[^0-9]', '', regex=True)\n",
    "\n",
    "# Check if they have the same patients\n",
    "common_patients = set(df_pca['NEFG2_cleaned']).intersection(set(df['NEFG2_cleaned']))\n",
    "only_in_pca = set(df_pca['NEFG2_cleaned']) - set(df['NEFG2_cleaned'])\n",
    "only_in_other = set(df['NEFG2_cleaned']) - set(df_pca['NEFG2_cleaned'])\n",
    "\n",
    "set(df[\"NEFG2_cleaned\"].unique()).difference(set(df_pca[\"NEFG2_cleaned\"].unique()))\n"
   ]
  },
  {
   "cell_type": "code",
   "execution_count": 342,
   "metadata": {},
   "outputs": [
    {
     "data": {
      "text/plain": [
       "Index(['NEFG2_pca', 'PC1', 'PC2', 'PC3', 'NEFG2_cleaned', 'NEFG', 'NEFG2_pop',\n",
       "       'LT_age', 'aetiology', 'gender', 'bmi', 'donneur_age', 'donneur_PF',\n",
       "       'donneur_tabac', 'LAS', 'SU', 'type_tp', 'ECMO_postop',\n",
       "       'ECMO_postop_duree_jours', 'induction', 'CMV_DR', 'DSA_pre',\n",
       "       'patient_survival_status', 'patient_survival_delay',\n",
       "       'graft_survival_status', 'graft_survival_delay', 're_tx',\n",
       "       'CMV_DR_coded'],\n",
       "      dtype='object')"
      ]
     },
     "execution_count": 342,
     "metadata": {},
     "output_type": "execute_result"
    }
   ],
   "source": [
    "merged_df = pd.merge(df_pca, df, on='NEFG2_cleaned', how='outer', suffixes=('_pca', '_pop'))\n",
    "\n",
    "merged_df.columns"
   ]
  },
  {
   "cell_type": "code",
   "execution_count": 349,
   "metadata": {},
   "outputs": [
    {
     "data": {
      "text/plain": [
       "array([0, 1])"
      ]
     },
     "execution_count": 349,
     "metadata": {},
     "output_type": "execute_result"
    }
   ],
   "source": [
    "merged_df[\"patient_survival_status\"].unique()"
   ]
  },
  {
   "cell_type": "code",
   "execution_count": 343,
   "metadata": {},
   "outputs": [],
   "source": [
    "merged_df.drop(columns=[\"NEFG2_pca\", 'NEFG2_cleaned', 'NEFG','NEFG2_pop',\"CMV_DR\"],inplace=True)\n",
    "merged_df.to_csv(\".././data/analysis/df_clustering_pca.csv\")"
   ]
  },
  {
   "cell_type": "code",
   "execution_count": 344,
   "metadata": {},
   "outputs": [],
   "source": [
    "df_raw_features = pd.read_csv(\".././data/analysis/df_new_features.csv\")"
   ]
  },
  {
   "cell_type": "code",
   "execution_count": 345,
   "metadata": {},
   "outputs": [
    {
     "data": {
      "text/plain": [
       "set()"
      ]
     },
     "execution_count": 345,
     "metadata": {},
     "output_type": "execute_result"
    }
   ],
   "source": [
    "# Remove unwanted characters from 'NEFG2' in both dataframes and convert to strings\n",
    "df_raw_features['NEFG2_cleaned'] = df_raw_features['NEFG2'].astype(str).str.replace('[^0-9]', '', regex=True)\n",
    "df['NEFG2_cleaned'] = df['NEFG2'].astype(str).str.replace('[^0-9]', '', regex=True)\n",
    "\n",
    "# Check if they have the same patients\n",
    "common_patients = set(df_raw_features['NEFG2_cleaned']).intersection(set(df['NEFG2_cleaned']))\n",
    "only_in_pca = set(df_raw_features['NEFG2_cleaned']) - set(df['NEFG2_cleaned'])\n",
    "only_in_other = set(df['NEFG2_cleaned']) - set(df_raw_features['NEFG2_cleaned'])\n",
    "\n",
    "set(df[\"NEFG2_cleaned\"].unique()).difference(set(df_raw_features[\"NEFG2_cleaned\"].unique()))\n"
   ]
  },
  {
   "cell_type": "code",
   "execution_count": 346,
   "metadata": {},
   "outputs": [],
   "source": [
    "raw_merged_df = pd.merge(df_raw_features, df, on='NEFG2_cleaned', how='outer', suffixes=('_raw', '_pop'))\n",
    "\n",
    "df_raw_features.to_csv(\".././data/analysis/df_clustering_raw.csv\")"
   ]
  },
  {
   "cell_type": "code",
   "execution_count": null,
   "metadata": {},
   "outputs": [],
   "source": []
  }
 ],
 "metadata": {
  "kernelspec": {
   "display_name": "venv",
   "language": "python",
   "name": "python3"
  },
  "language_info": {
   "codemirror_mode": {
    "name": "ipython",
    "version": 3
   },
   "file_extension": ".py",
   "mimetype": "text/x-python",
   "name": "python",
   "nbconvert_exporter": "python",
   "pygments_lexer": "ipython3",
   "version": "3.11.10"
  }
 },
 "nbformat": 4,
 "nbformat_minor": 2
}
